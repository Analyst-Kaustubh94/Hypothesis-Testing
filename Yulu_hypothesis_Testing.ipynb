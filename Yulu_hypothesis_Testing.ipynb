{
 "cells": [
  {
   "cell_type": "code",
   "execution_count": 1,
   "id": "af09ab45",
   "metadata": {},
   "outputs": [],
   "source": [
    "#Problem Statement\n",
    "\n",
    "#Yulu is India’s leading micro-mobility service provider, which offers unique vehicles for the daily commute.\n",
    "#Starting off as a mission to eliminate traffic congestion in India, Yulu provides the safest commute solution\n",
    "#through a user-friendly mobile app to enable shared, solo and sustainable commuting.\n",
    "\n",
    "#Yulu zones are located at all the appropriate locations (including metro stations, bus stands, office spaces, residential areas, corporate offices, etc)\n",
    "#to make those first and last miles smooth, affordable, and convenient!\n",
    "\n",
    "#Yulu has recently suffered considerable dips in its revenues. \n",
    "#They have contracted a consulting company to understand the factors on which the demand for these shared electric cycles depends.\n",
    "#Specifically, they want to understand the factors affecting the demand for these shared electric cycles in the Indian market."
   ]
  },
  {
   "cell_type": "code",
   "execution_count": 2,
   "id": "4e2ef150",
   "metadata": {},
   "outputs": [],
   "source": [
    "#Importing all important libraries\n",
    "import numpy as np\n",
    "import pandas as pd\n",
    "import seaborn as sns\n",
    "import matplotlib.pyplot as plt\n",
    "from scipy.stats import ttest_ind, f_oneway,chi2_contingency,norm"
   ]
  },
  {
   "cell_type": "code",
   "execution_count": 3,
   "id": "ed248127",
   "metadata": {},
   "outputs": [],
   "source": [
    "#Reading data\n",
    "df=pd.read_csv(\"bike_sharing.csv\")"
   ]
  },
  {
   "cell_type": "code",
   "execution_count": 4,
   "id": "ef9cb26c",
   "metadata": {},
   "outputs": [
    {
     "data": {
      "text/html": [
       "<div>\n",
       "<style scoped>\n",
       "    .dataframe tbody tr th:only-of-type {\n",
       "        vertical-align: middle;\n",
       "    }\n",
       "\n",
       "    .dataframe tbody tr th {\n",
       "        vertical-align: top;\n",
       "    }\n",
       "\n",
       "    .dataframe thead th {\n",
       "        text-align: right;\n",
       "    }\n",
       "</style>\n",
       "<table border=\"1\" class=\"dataframe\">\n",
       "  <thead>\n",
       "    <tr style=\"text-align: right;\">\n",
       "      <th></th>\n",
       "      <th>datetime</th>\n",
       "      <th>season</th>\n",
       "      <th>holiday</th>\n",
       "      <th>workingday</th>\n",
       "      <th>weather</th>\n",
       "      <th>temp</th>\n",
       "      <th>atemp</th>\n",
       "      <th>humidity</th>\n",
       "      <th>windspeed</th>\n",
       "      <th>casual</th>\n",
       "      <th>registered</th>\n",
       "      <th>count</th>\n",
       "    </tr>\n",
       "  </thead>\n",
       "  <tbody>\n",
       "    <tr>\n",
       "      <th>0</th>\n",
       "      <td>2011-01-01 00:00:00</td>\n",
       "      <td>1</td>\n",
       "      <td>0</td>\n",
       "      <td>0</td>\n",
       "      <td>1</td>\n",
       "      <td>9.84</td>\n",
       "      <td>14.395</td>\n",
       "      <td>81</td>\n",
       "      <td>0.0</td>\n",
       "      <td>3</td>\n",
       "      <td>13</td>\n",
       "      <td>16</td>\n",
       "    </tr>\n",
       "    <tr>\n",
       "      <th>1</th>\n",
       "      <td>2011-01-01 01:00:00</td>\n",
       "      <td>1</td>\n",
       "      <td>0</td>\n",
       "      <td>0</td>\n",
       "      <td>1</td>\n",
       "      <td>9.02</td>\n",
       "      <td>13.635</td>\n",
       "      <td>80</td>\n",
       "      <td>0.0</td>\n",
       "      <td>8</td>\n",
       "      <td>32</td>\n",
       "      <td>40</td>\n",
       "    </tr>\n",
       "    <tr>\n",
       "      <th>2</th>\n",
       "      <td>2011-01-01 02:00:00</td>\n",
       "      <td>1</td>\n",
       "      <td>0</td>\n",
       "      <td>0</td>\n",
       "      <td>1</td>\n",
       "      <td>9.02</td>\n",
       "      <td>13.635</td>\n",
       "      <td>80</td>\n",
       "      <td>0.0</td>\n",
       "      <td>5</td>\n",
       "      <td>27</td>\n",
       "      <td>32</td>\n",
       "    </tr>\n",
       "    <tr>\n",
       "      <th>3</th>\n",
       "      <td>2011-01-01 03:00:00</td>\n",
       "      <td>1</td>\n",
       "      <td>0</td>\n",
       "      <td>0</td>\n",
       "      <td>1</td>\n",
       "      <td>9.84</td>\n",
       "      <td>14.395</td>\n",
       "      <td>75</td>\n",
       "      <td>0.0</td>\n",
       "      <td>3</td>\n",
       "      <td>10</td>\n",
       "      <td>13</td>\n",
       "    </tr>\n",
       "    <tr>\n",
       "      <th>4</th>\n",
       "      <td>2011-01-01 04:00:00</td>\n",
       "      <td>1</td>\n",
       "      <td>0</td>\n",
       "      <td>0</td>\n",
       "      <td>1</td>\n",
       "      <td>9.84</td>\n",
       "      <td>14.395</td>\n",
       "      <td>75</td>\n",
       "      <td>0.0</td>\n",
       "      <td>0</td>\n",
       "      <td>1</td>\n",
       "      <td>1</td>\n",
       "    </tr>\n",
       "  </tbody>\n",
       "</table>\n",
       "</div>"
      ],
      "text/plain": [
       "              datetime  season  holiday  workingday  weather  temp   atemp  \\\n",
       "0  2011-01-01 00:00:00       1        0           0        1  9.84  14.395   \n",
       "1  2011-01-01 01:00:00       1        0           0        1  9.02  13.635   \n",
       "2  2011-01-01 02:00:00       1        0           0        1  9.02  13.635   \n",
       "3  2011-01-01 03:00:00       1        0           0        1  9.84  14.395   \n",
       "4  2011-01-01 04:00:00       1        0           0        1  9.84  14.395   \n",
       "\n",
       "   humidity  windspeed  casual  registered  count  \n",
       "0        81        0.0       3          13     16  \n",
       "1        80        0.0       8          32     40  \n",
       "2        80        0.0       5          27     32  \n",
       "3        75        0.0       3          10     13  \n",
       "4        75        0.0       0           1      1  "
      ]
     },
     "execution_count": 4,
     "metadata": {},
     "output_type": "execute_result"
    }
   ],
   "source": [
    "#Checking how data looks like\n",
    "df.head()"
   ]
  },
  {
   "cell_type": "code",
   "execution_count": 5,
   "id": "4b191cb0",
   "metadata": {},
   "outputs": [
    {
     "data": {
      "text/plain": [
       "(10886, 12)"
      ]
     },
     "execution_count": 5,
     "metadata": {},
     "output_type": "execute_result"
    }
   ],
   "source": [
    "#Checking Size of data\n",
    "df.shape"
   ]
  },
  {
   "cell_type": "code",
   "execution_count": 6,
   "id": "3a6d5f15",
   "metadata": {},
   "outputs": [
    {
     "name": "stdout",
     "output_type": "stream",
     "text": [
      "<class 'pandas.core.frame.DataFrame'>\n",
      "RangeIndex: 10886 entries, 0 to 10885\n",
      "Data columns (total 12 columns):\n",
      " #   Column      Non-Null Count  Dtype  \n",
      "---  ------      --------------  -----  \n",
      " 0   datetime    10886 non-null  object \n",
      " 1   season      10886 non-null  int64  \n",
      " 2   holiday     10886 non-null  int64  \n",
      " 3   workingday  10886 non-null  int64  \n",
      " 4   weather     10886 non-null  int64  \n",
      " 5   temp        10886 non-null  float64\n",
      " 6   atemp       10886 non-null  float64\n",
      " 7   humidity    10886 non-null  int64  \n",
      " 8   windspeed   10886 non-null  float64\n",
      " 9   casual      10886 non-null  int64  \n",
      " 10  registered  10886 non-null  int64  \n",
      " 11  count       10886 non-null  int64  \n",
      "dtypes: float64(3), int64(8), object(1)\n",
      "memory usage: 1020.7+ KB\n"
     ]
    }
   ],
   "source": [
    "#Checking data types of columns\n",
    "df.info()\n",
    "\n",
    "#Insights: dateime coulumn has object data type"
   ]
  },
  {
   "cell_type": "code",
   "execution_count": 7,
   "id": "0d25a058",
   "metadata": {},
   "outputs": [
    {
     "data": {
      "text/plain": [
       "datetime      0\n",
       "season        0\n",
       "holiday       0\n",
       "workingday    0\n",
       "weather       0\n",
       "temp          0\n",
       "atemp         0\n",
       "humidity      0\n",
       "windspeed     0\n",
       "casual        0\n",
       "registered    0\n",
       "count         0\n",
       "dtype: int64"
      ]
     },
     "execution_count": 7,
     "metadata": {},
     "output_type": "execute_result"
    }
   ],
   "source": [
    "#Checking null counts\n",
    "df.isna().sum()\n",
    "\n",
    "#Insights: No Null Values found in records"
   ]
  },
  {
   "cell_type": "code",
   "execution_count": 8,
   "id": "31d817ac",
   "metadata": {},
   "outputs": [
    {
     "data": {
      "text/plain": [
       "12:00:00    456\n",
       "13:00:00    456\n",
       "22:00:00    456\n",
       "21:00:00    456\n",
       "20:00:00    456\n",
       "19:00:00    456\n",
       "18:00:00    456\n",
       "17:00:00    456\n",
       "16:00:00    456\n",
       "15:00:00    456\n",
       "14:00:00    456\n",
       "23:00:00    456\n",
       "11:00:00    455\n",
       "10:00:00    455\n",
       "09:00:00    455\n",
       "08:00:00    455\n",
       "07:00:00    455\n",
       "06:00:00    455\n",
       "00:00:00    455\n",
       "01:00:00    454\n",
       "05:00:00    452\n",
       "02:00:00    448\n",
       "04:00:00    442\n",
       "03:00:00    433\n",
       "Name: datetime, dtype: int64"
      ]
     },
     "execution_count": 8,
     "metadata": {},
     "output_type": "execute_result"
    }
   ],
   "source": [
    "#Null values not found but there can be missing values\n",
    "df1=pd.read_csv(\"bike_sharing.csv\")\n",
    "df1[\"datetime\"]=pd.to_datetime(df1[\"datetime\"])\n",
    "df1[\"datetime\"]=df1[\"datetime\"].dt.time\n",
    "df1[\"datetime\"].value_counts()\n",
    "\n",
    "#Insights:\n",
    "#Total 456 days data we have but for few time frames no of readings are less than 456\n",
    "#missing data is very less so we can go ahead with original data"
   ]
  },
  {
   "cell_type": "code",
   "execution_count": 9,
   "id": "5e68b310",
   "metadata": {
    "scrolled": true
   },
   "outputs": [
    {
     "data": {
      "text/html": [
       "<div>\n",
       "<style scoped>\n",
       "    .dataframe tbody tr th:only-of-type {\n",
       "        vertical-align: middle;\n",
       "    }\n",
       "\n",
       "    .dataframe tbody tr th {\n",
       "        vertical-align: top;\n",
       "    }\n",
       "\n",
       "    .dataframe thead th {\n",
       "        text-align: right;\n",
       "    }\n",
       "</style>\n",
       "<table border=\"1\" class=\"dataframe\">\n",
       "  <thead>\n",
       "    <tr style=\"text-align: right;\">\n",
       "      <th></th>\n",
       "      <th>season</th>\n",
       "      <th>holiday</th>\n",
       "      <th>workingday</th>\n",
       "      <th>weather</th>\n",
       "      <th>temp</th>\n",
       "      <th>atemp</th>\n",
       "      <th>humidity</th>\n",
       "      <th>windspeed</th>\n",
       "      <th>casual</th>\n",
       "      <th>registered</th>\n",
       "      <th>count</th>\n",
       "    </tr>\n",
       "  </thead>\n",
       "  <tbody>\n",
       "    <tr>\n",
       "      <th>count</th>\n",
       "      <td>10886.000000</td>\n",
       "      <td>10886.000000</td>\n",
       "      <td>10886.000000</td>\n",
       "      <td>10886.000000</td>\n",
       "      <td>10886.00000</td>\n",
       "      <td>10886.000000</td>\n",
       "      <td>10886.000000</td>\n",
       "      <td>10886.000000</td>\n",
       "      <td>10886.000000</td>\n",
       "      <td>10886.000000</td>\n",
       "      <td>10886.000000</td>\n",
       "    </tr>\n",
       "    <tr>\n",
       "      <th>mean</th>\n",
       "      <td>2.506614</td>\n",
       "      <td>0.028569</td>\n",
       "      <td>0.680875</td>\n",
       "      <td>1.418427</td>\n",
       "      <td>20.23086</td>\n",
       "      <td>23.655084</td>\n",
       "      <td>61.886460</td>\n",
       "      <td>12.799395</td>\n",
       "      <td>36.021955</td>\n",
       "      <td>155.552177</td>\n",
       "      <td>191.574132</td>\n",
       "    </tr>\n",
       "    <tr>\n",
       "      <th>std</th>\n",
       "      <td>1.116174</td>\n",
       "      <td>0.166599</td>\n",
       "      <td>0.466159</td>\n",
       "      <td>0.633839</td>\n",
       "      <td>7.79159</td>\n",
       "      <td>8.474601</td>\n",
       "      <td>19.245033</td>\n",
       "      <td>8.164537</td>\n",
       "      <td>49.960477</td>\n",
       "      <td>151.039033</td>\n",
       "      <td>181.144454</td>\n",
       "    </tr>\n",
       "    <tr>\n",
       "      <th>min</th>\n",
       "      <td>1.000000</td>\n",
       "      <td>0.000000</td>\n",
       "      <td>0.000000</td>\n",
       "      <td>1.000000</td>\n",
       "      <td>0.82000</td>\n",
       "      <td>0.760000</td>\n",
       "      <td>0.000000</td>\n",
       "      <td>0.000000</td>\n",
       "      <td>0.000000</td>\n",
       "      <td>0.000000</td>\n",
       "      <td>1.000000</td>\n",
       "    </tr>\n",
       "    <tr>\n",
       "      <th>25%</th>\n",
       "      <td>2.000000</td>\n",
       "      <td>0.000000</td>\n",
       "      <td>0.000000</td>\n",
       "      <td>1.000000</td>\n",
       "      <td>13.94000</td>\n",
       "      <td>16.665000</td>\n",
       "      <td>47.000000</td>\n",
       "      <td>7.001500</td>\n",
       "      <td>4.000000</td>\n",
       "      <td>36.000000</td>\n",
       "      <td>42.000000</td>\n",
       "    </tr>\n",
       "    <tr>\n",
       "      <th>50%</th>\n",
       "      <td>3.000000</td>\n",
       "      <td>0.000000</td>\n",
       "      <td>1.000000</td>\n",
       "      <td>1.000000</td>\n",
       "      <td>20.50000</td>\n",
       "      <td>24.240000</td>\n",
       "      <td>62.000000</td>\n",
       "      <td>12.998000</td>\n",
       "      <td>17.000000</td>\n",
       "      <td>118.000000</td>\n",
       "      <td>145.000000</td>\n",
       "    </tr>\n",
       "    <tr>\n",
       "      <th>75%</th>\n",
       "      <td>4.000000</td>\n",
       "      <td>0.000000</td>\n",
       "      <td>1.000000</td>\n",
       "      <td>2.000000</td>\n",
       "      <td>26.24000</td>\n",
       "      <td>31.060000</td>\n",
       "      <td>77.000000</td>\n",
       "      <td>16.997900</td>\n",
       "      <td>49.000000</td>\n",
       "      <td>222.000000</td>\n",
       "      <td>284.000000</td>\n",
       "    </tr>\n",
       "    <tr>\n",
       "      <th>max</th>\n",
       "      <td>4.000000</td>\n",
       "      <td>1.000000</td>\n",
       "      <td>1.000000</td>\n",
       "      <td>4.000000</td>\n",
       "      <td>41.00000</td>\n",
       "      <td>45.455000</td>\n",
       "      <td>100.000000</td>\n",
       "      <td>56.996900</td>\n",
       "      <td>367.000000</td>\n",
       "      <td>886.000000</td>\n",
       "      <td>977.000000</td>\n",
       "    </tr>\n",
       "  </tbody>\n",
       "</table>\n",
       "</div>"
      ],
      "text/plain": [
       "             season       holiday    workingday       weather         temp  \\\n",
       "count  10886.000000  10886.000000  10886.000000  10886.000000  10886.00000   \n",
       "mean       2.506614      0.028569      0.680875      1.418427     20.23086   \n",
       "std        1.116174      0.166599      0.466159      0.633839      7.79159   \n",
       "min        1.000000      0.000000      0.000000      1.000000      0.82000   \n",
       "25%        2.000000      0.000000      0.000000      1.000000     13.94000   \n",
       "50%        3.000000      0.000000      1.000000      1.000000     20.50000   \n",
       "75%        4.000000      0.000000      1.000000      2.000000     26.24000   \n",
       "max        4.000000      1.000000      1.000000      4.000000     41.00000   \n",
       "\n",
       "              atemp      humidity     windspeed        casual    registered  \\\n",
       "count  10886.000000  10886.000000  10886.000000  10886.000000  10886.000000   \n",
       "mean      23.655084     61.886460     12.799395     36.021955    155.552177   \n",
       "std        8.474601     19.245033      8.164537     49.960477    151.039033   \n",
       "min        0.760000      0.000000      0.000000      0.000000      0.000000   \n",
       "25%       16.665000     47.000000      7.001500      4.000000     36.000000   \n",
       "50%       24.240000     62.000000     12.998000     17.000000    118.000000   \n",
       "75%       31.060000     77.000000     16.997900     49.000000    222.000000   \n",
       "max       45.455000    100.000000     56.996900    367.000000    886.000000   \n",
       "\n",
       "              count  \n",
       "count  10886.000000  \n",
       "mean     191.574132  \n",
       "std      181.144454  \n",
       "min        1.000000  \n",
       "25%       42.000000  \n",
       "50%      145.000000  \n",
       "75%      284.000000  \n",
       "max      977.000000  "
      ]
     },
     "execution_count": 9,
     "metadata": {},
     "output_type": "execute_result"
    }
   ],
   "source": [
    "#Stastistical oveview of data\n",
    "df.describe()"
   ]
  },
  {
   "cell_type": "code",
   "execution_count": 10,
   "id": "e34ff970",
   "metadata": {},
   "outputs": [
    {
     "data": {
      "text/plain": [
       "datetime      10886\n",
       "season            4\n",
       "holiday           2\n",
       "workingday        2\n",
       "weather           4\n",
       "temp             49\n",
       "atemp            60\n",
       "humidity         89\n",
       "windspeed        28\n",
       "casual          309\n",
       "registered      731\n",
       "count           822\n",
       "dtype: int64"
      ]
     },
     "execution_count": 10,
     "metadata": {},
     "output_type": "execute_result"
    }
   ],
   "source": [
    "#unique attributes\n",
    "df.nunique()"
   ]
  },
  {
   "cell_type": "code",
   "execution_count": 11,
   "id": "73e2f93c",
   "metadata": {},
   "outputs": [
    {
     "name": "stdout",
     "output_type": "stream",
     "text": [
      "Different types of Seasons =  [1 2 3 4]\n",
      "Different types of Workingday =  [0 1]\n",
      "Different types of Weather =  [1 2 3 4]\n"
     ]
    }
   ],
   "source": [
    "#Finding out categorical variables\n",
    "print(\"Different types of Seasons = \",df[\"season\"].unique())\n",
    "print(\"Different types of Workingday = \",df[\"workingday\"].unique())\n",
    "print(\"Different types of Weather = \",df[\"weather\"].unique())\n",
    "\n",
    "#Insights\n",
    "#there are 4 types of seasons,     1:Spring 2:Summer 3:Fall 4:Winter\n",
    "\n",
    "#there are 2 types of working day, 0:Not a working day 1:working day \n",
    "\n",
    "#there are 4 types of weather:     1: Clear, Few clouds, partly cloudy, partly cloudy\n",
    "#                                  2: Mist + Cloudy, Mist + Broken clouds, Mist + Few clouds, Mist\n",
    "#                                  3: Light Snow, Light Rain + Thunderstorm + Scattered clouds, Light Rain + Scattered clouds\n",
    "#                                  4: Heavy Rain + Ice Pallets + Thunderstorm + Mist, Snow + Fog"
   ]
  },
  {
   "cell_type": "code",
   "execution_count": 12,
   "id": "f664cf58",
   "metadata": {},
   "outputs": [
    {
     "data": {
      "text/html": [
       "<div>\n",
       "<style scoped>\n",
       "    .dataframe tbody tr th:only-of-type {\n",
       "        vertical-align: middle;\n",
       "    }\n",
       "\n",
       "    .dataframe tbody tr th {\n",
       "        vertical-align: top;\n",
       "    }\n",
       "\n",
       "    .dataframe thead th {\n",
       "        text-align: right;\n",
       "    }\n",
       "</style>\n",
       "<table border=\"1\" class=\"dataframe\">\n",
       "  <thead>\n",
       "    <tr style=\"text-align: right;\">\n",
       "      <th></th>\n",
       "      <th>datetime</th>\n",
       "      <th>season</th>\n",
       "      <th>holiday</th>\n",
       "      <th>workingday</th>\n",
       "      <th>weather</th>\n",
       "      <th>temp</th>\n",
       "      <th>atemp</th>\n",
       "      <th>humidity</th>\n",
       "      <th>windspeed</th>\n",
       "      <th>casual</th>\n",
       "      <th>registered</th>\n",
       "      <th>count</th>\n",
       "      <th>humidity_bins</th>\n",
       "      <th>temp_bins</th>\n",
       "      <th>windspeed_bins</th>\n",
       "    </tr>\n",
       "  </thead>\n",
       "  <tbody>\n",
       "    <tr>\n",
       "      <th>0</th>\n",
       "      <td>2011-01-01 00:00:00</td>\n",
       "      <td>1</td>\n",
       "      <td>0</td>\n",
       "      <td>0</td>\n",
       "      <td>1</td>\n",
       "      <td>9.84</td>\n",
       "      <td>14.395</td>\n",
       "      <td>81</td>\n",
       "      <td>0.0</td>\n",
       "      <td>3</td>\n",
       "      <td>13</td>\n",
       "      <td>16</td>\n",
       "      <td>(80.0, 100.0]</td>\n",
       "      <td>(0.78, 14.213]</td>\n",
       "      <td>(-0.057, 9.499]</td>\n",
       "    </tr>\n",
       "    <tr>\n",
       "      <th>1</th>\n",
       "      <td>2011-01-01 01:00:00</td>\n",
       "      <td>1</td>\n",
       "      <td>0</td>\n",
       "      <td>0</td>\n",
       "      <td>1</td>\n",
       "      <td>9.02</td>\n",
       "      <td>13.635</td>\n",
       "      <td>80</td>\n",
       "      <td>0.0</td>\n",
       "      <td>8</td>\n",
       "      <td>32</td>\n",
       "      <td>40</td>\n",
       "      <td>(60.0, 80.0]</td>\n",
       "      <td>(0.78, 14.213]</td>\n",
       "      <td>(-0.057, 9.499]</td>\n",
       "    </tr>\n",
       "    <tr>\n",
       "      <th>2</th>\n",
       "      <td>2011-01-01 02:00:00</td>\n",
       "      <td>1</td>\n",
       "      <td>0</td>\n",
       "      <td>0</td>\n",
       "      <td>1</td>\n",
       "      <td>9.02</td>\n",
       "      <td>13.635</td>\n",
       "      <td>80</td>\n",
       "      <td>0.0</td>\n",
       "      <td>5</td>\n",
       "      <td>27</td>\n",
       "      <td>32</td>\n",
       "      <td>(60.0, 80.0]</td>\n",
       "      <td>(0.78, 14.213]</td>\n",
       "      <td>(-0.057, 9.499]</td>\n",
       "    </tr>\n",
       "    <tr>\n",
       "      <th>3</th>\n",
       "      <td>2011-01-01 03:00:00</td>\n",
       "      <td>1</td>\n",
       "      <td>0</td>\n",
       "      <td>0</td>\n",
       "      <td>1</td>\n",
       "      <td>9.84</td>\n",
       "      <td>14.395</td>\n",
       "      <td>75</td>\n",
       "      <td>0.0</td>\n",
       "      <td>3</td>\n",
       "      <td>10</td>\n",
       "      <td>13</td>\n",
       "      <td>(60.0, 80.0]</td>\n",
       "      <td>(0.78, 14.213]</td>\n",
       "      <td>(-0.057, 9.499]</td>\n",
       "    </tr>\n",
       "    <tr>\n",
       "      <th>4</th>\n",
       "      <td>2011-01-01 04:00:00</td>\n",
       "      <td>1</td>\n",
       "      <td>0</td>\n",
       "      <td>0</td>\n",
       "      <td>1</td>\n",
       "      <td>9.84</td>\n",
       "      <td>14.395</td>\n",
       "      <td>75</td>\n",
       "      <td>0.0</td>\n",
       "      <td>0</td>\n",
       "      <td>1</td>\n",
       "      <td>1</td>\n",
       "      <td>(60.0, 80.0]</td>\n",
       "      <td>(0.78, 14.213]</td>\n",
       "      <td>(-0.057, 9.499]</td>\n",
       "    </tr>\n",
       "  </tbody>\n",
       "</table>\n",
       "</div>"
      ],
      "text/plain": [
       "              datetime  season  holiday  workingday  weather  temp   atemp  \\\n",
       "0  2011-01-01 00:00:00       1        0           0        1  9.84  14.395   \n",
       "1  2011-01-01 01:00:00       1        0           0        1  9.02  13.635   \n",
       "2  2011-01-01 02:00:00       1        0           0        1  9.02  13.635   \n",
       "3  2011-01-01 03:00:00       1        0           0        1  9.84  14.395   \n",
       "4  2011-01-01 04:00:00       1        0           0        1  9.84  14.395   \n",
       "\n",
       "   humidity  windspeed  casual  registered  count  humidity_bins  \\\n",
       "0        81        0.0       3          13     16  (80.0, 100.0]   \n",
       "1        80        0.0       8          32     40   (60.0, 80.0]   \n",
       "2        80        0.0       5          27     32   (60.0, 80.0]   \n",
       "3        75        0.0       3          10     13   (60.0, 80.0]   \n",
       "4        75        0.0       0           1      1   (60.0, 80.0]   \n",
       "\n",
       "        temp_bins   windspeed_bins  \n",
       "0  (0.78, 14.213]  (-0.057, 9.499]  \n",
       "1  (0.78, 14.213]  (-0.057, 9.499]  \n",
       "2  (0.78, 14.213]  (-0.057, 9.499]  \n",
       "3  (0.78, 14.213]  (-0.057, 9.499]  \n",
       "4  (0.78, 14.213]  (-0.057, 9.499]  "
      ]
     },
     "execution_count": 12,
     "metadata": {},
     "output_type": "execute_result"
    }
   ],
   "source": [
    "#Converting continuous variables to categorical variables\n",
    "df[\"humidity_bins\"]=pd.cut(df[\"humidity\"],5)\n",
    "df[\"temp_bins\"]=pd.cut(df[\"temp\"],3)\n",
    "df[\"windspeed_bins\"]=pd.cut(df[\"windspeed\"],6)\n",
    "df.head()"
   ]
  },
  {
   "cell_type": "code",
   "execution_count": 13,
   "id": "4fe9e848",
   "metadata": {},
   "outputs": [
    {
     "data": {
      "text/html": [
       "<div>\n",
       "<style scoped>\n",
       "    .dataframe tbody tr th:only-of-type {\n",
       "        vertical-align: middle;\n",
       "    }\n",
       "\n",
       "    .dataframe tbody tr th {\n",
       "        vertical-align: top;\n",
       "    }\n",
       "\n",
       "    .dataframe thead th {\n",
       "        text-align: right;\n",
       "    }\n",
       "</style>\n",
       "<table border=\"1\" class=\"dataframe\">\n",
       "  <thead>\n",
       "    <tr style=\"text-align: right;\">\n",
       "      <th></th>\n",
       "      <th>datetime</th>\n",
       "      <th>season</th>\n",
       "      <th>holiday</th>\n",
       "      <th>workingday</th>\n",
       "      <th>weather</th>\n",
       "      <th>temp</th>\n",
       "      <th>atemp</th>\n",
       "      <th>humidity</th>\n",
       "      <th>windspeed</th>\n",
       "      <th>casual</th>\n",
       "      <th>registered</th>\n",
       "      <th>count</th>\n",
       "      <th>humidity_bins</th>\n",
       "      <th>temp_bins</th>\n",
       "      <th>windspeed_bins</th>\n",
       "    </tr>\n",
       "  </thead>\n",
       "  <tbody>\n",
       "    <tr>\n",
       "      <th>0</th>\n",
       "      <td>2011-01-01</td>\n",
       "      <td>1</td>\n",
       "      <td>0</td>\n",
       "      <td>0</td>\n",
       "      <td>1</td>\n",
       "      <td>9.84</td>\n",
       "      <td>14.395</td>\n",
       "      <td>81</td>\n",
       "      <td>0.0</td>\n",
       "      <td>3</td>\n",
       "      <td>13</td>\n",
       "      <td>16</td>\n",
       "      <td>(80.0, 100.0]</td>\n",
       "      <td>(0.78, 14.213]</td>\n",
       "      <td>(-0.057, 9.499]</td>\n",
       "    </tr>\n",
       "    <tr>\n",
       "      <th>1</th>\n",
       "      <td>2011-01-01</td>\n",
       "      <td>1</td>\n",
       "      <td>0</td>\n",
       "      <td>0</td>\n",
       "      <td>1</td>\n",
       "      <td>9.02</td>\n",
       "      <td>13.635</td>\n",
       "      <td>80</td>\n",
       "      <td>0.0</td>\n",
       "      <td>8</td>\n",
       "      <td>32</td>\n",
       "      <td>40</td>\n",
       "      <td>(60.0, 80.0]</td>\n",
       "      <td>(0.78, 14.213]</td>\n",
       "      <td>(-0.057, 9.499]</td>\n",
       "    </tr>\n",
       "    <tr>\n",
       "      <th>2</th>\n",
       "      <td>2011-01-01</td>\n",
       "      <td>1</td>\n",
       "      <td>0</td>\n",
       "      <td>0</td>\n",
       "      <td>1</td>\n",
       "      <td>9.02</td>\n",
       "      <td>13.635</td>\n",
       "      <td>80</td>\n",
       "      <td>0.0</td>\n",
       "      <td>5</td>\n",
       "      <td>27</td>\n",
       "      <td>32</td>\n",
       "      <td>(60.0, 80.0]</td>\n",
       "      <td>(0.78, 14.213]</td>\n",
       "      <td>(-0.057, 9.499]</td>\n",
       "    </tr>\n",
       "    <tr>\n",
       "      <th>3</th>\n",
       "      <td>2011-01-01</td>\n",
       "      <td>1</td>\n",
       "      <td>0</td>\n",
       "      <td>0</td>\n",
       "      <td>1</td>\n",
       "      <td>9.84</td>\n",
       "      <td>14.395</td>\n",
       "      <td>75</td>\n",
       "      <td>0.0</td>\n",
       "      <td>3</td>\n",
       "      <td>10</td>\n",
       "      <td>13</td>\n",
       "      <td>(60.0, 80.0]</td>\n",
       "      <td>(0.78, 14.213]</td>\n",
       "      <td>(-0.057, 9.499]</td>\n",
       "    </tr>\n",
       "    <tr>\n",
       "      <th>4</th>\n",
       "      <td>2011-01-01</td>\n",
       "      <td>1</td>\n",
       "      <td>0</td>\n",
       "      <td>0</td>\n",
       "      <td>1</td>\n",
       "      <td>9.84</td>\n",
       "      <td>14.395</td>\n",
       "      <td>75</td>\n",
       "      <td>0.0</td>\n",
       "      <td>0</td>\n",
       "      <td>1</td>\n",
       "      <td>1</td>\n",
       "      <td>(60.0, 80.0]</td>\n",
       "      <td>(0.78, 14.213]</td>\n",
       "      <td>(-0.057, 9.499]</td>\n",
       "    </tr>\n",
       "  </tbody>\n",
       "</table>\n",
       "</div>"
      ],
      "text/plain": [
       "     datetime  season  holiday  workingday  weather  temp   atemp  humidity  \\\n",
       "0  2011-01-01       1        0           0        1  9.84  14.395        81   \n",
       "1  2011-01-01       1        0           0        1  9.02  13.635        80   \n",
       "2  2011-01-01       1        0           0        1  9.02  13.635        80   \n",
       "3  2011-01-01       1        0           0        1  9.84  14.395        75   \n",
       "4  2011-01-01       1        0           0        1  9.84  14.395        75   \n",
       "\n",
       "   windspeed  casual  registered  count  humidity_bins       temp_bins  \\\n",
       "0        0.0       3          13     16  (80.0, 100.0]  (0.78, 14.213]   \n",
       "1        0.0       8          32     40   (60.0, 80.0]  (0.78, 14.213]   \n",
       "2        0.0       5          27     32   (60.0, 80.0]  (0.78, 14.213]   \n",
       "3        0.0       3          10     13   (60.0, 80.0]  (0.78, 14.213]   \n",
       "4        0.0       0           1      1   (60.0, 80.0]  (0.78, 14.213]   \n",
       "\n",
       "    windspeed_bins  \n",
       "0  (-0.057, 9.499]  \n",
       "1  (-0.057, 9.499]  \n",
       "2  (-0.057, 9.499]  \n",
       "3  (-0.057, 9.499]  \n",
       "4  (-0.057, 9.499]  "
      ]
     },
     "execution_count": 13,
     "metadata": {},
     "output_type": "execute_result"
    }
   ],
   "source": [
    "#to do analysis on working days and season, we need day wise data\n",
    "#step1: converting datetime column into only date \n",
    "df[\"datetime\"]=pd.to_datetime(df[\"datetime\"])\n",
    "df[\"datetime\"]=df[\"datetime\"].dt.date\n",
    "df.head()"
   ]
  },
  {
   "cell_type": "code",
   "execution_count": 14,
   "id": "641b0cca",
   "metadata": {},
   "outputs": [
    {
     "data": {
      "text/plain": [
       "456"
      ]
     },
     "execution_count": 14,
     "metadata": {},
     "output_type": "execute_result"
    }
   ],
   "source": [
    "#Checking how many days data we have\n",
    "df.groupby(\"datetime\").ngroups\n",
    "\n",
    "#Insights\n",
    "#we have total 456 days of data"
   ]
  },
  {
   "cell_type": "code",
   "execution_count": 15,
   "id": "d1cfccc7",
   "metadata": {},
   "outputs": [
    {
     "data": {
      "text/html": [
       "<div>\n",
       "<style scoped>\n",
       "    .dataframe tbody tr th:only-of-type {\n",
       "        vertical-align: middle;\n",
       "    }\n",
       "\n",
       "    .dataframe tbody tr th {\n",
       "        vertical-align: top;\n",
       "    }\n",
       "\n",
       "    .dataframe thead th {\n",
       "        text-align: right;\n",
       "    }\n",
       "</style>\n",
       "<table border=\"1\" class=\"dataframe\">\n",
       "  <thead>\n",
       "    <tr style=\"text-align: right;\">\n",
       "      <th></th>\n",
       "      <th>datetime</th>\n",
       "      <th>season</th>\n",
       "      <th>workingday</th>\n",
       "      <th>count</th>\n",
       "    </tr>\n",
       "  </thead>\n",
       "  <tbody>\n",
       "    <tr>\n",
       "      <th>0</th>\n",
       "      <td>2011-01-01</td>\n",
       "      <td>1</td>\n",
       "      <td>0</td>\n",
       "      <td>985</td>\n",
       "    </tr>\n",
       "    <tr>\n",
       "      <th>1</th>\n",
       "      <td>2011-01-02</td>\n",
       "      <td>1</td>\n",
       "      <td>0</td>\n",
       "      <td>801</td>\n",
       "    </tr>\n",
       "    <tr>\n",
       "      <th>2</th>\n",
       "      <td>2011-01-03</td>\n",
       "      <td>1</td>\n",
       "      <td>1</td>\n",
       "      <td>1349</td>\n",
       "    </tr>\n",
       "    <tr>\n",
       "      <th>3</th>\n",
       "      <td>2011-01-04</td>\n",
       "      <td>1</td>\n",
       "      <td>1</td>\n",
       "      <td>1562</td>\n",
       "    </tr>\n",
       "    <tr>\n",
       "      <th>4</th>\n",
       "      <td>2011-01-05</td>\n",
       "      <td>1</td>\n",
       "      <td>1</td>\n",
       "      <td>1600</td>\n",
       "    </tr>\n",
       "  </tbody>\n",
       "</table>\n",
       "</div>"
      ],
      "text/plain": [
       "     datetime  season  workingday  count\n",
       "0  2011-01-01       1           0    985\n",
       "1  2011-01-02       1           0    801\n",
       "2  2011-01-03       1           1   1349\n",
       "3  2011-01-04       1           1   1562\n",
       "4  2011-01-05       1           1   1600"
      ]
     },
     "execution_count": 15,
     "metadata": {},
     "output_type": "execute_result"
    }
   ],
   "source": [
    "#grouping data\n",
    "df_new=df.groupby([\"datetime\",\"season\",\"workingday\"])[\"count\"].sum().reset_index()\n",
    "df_new.head()"
   ]
  },
  {
   "cell_type": "code",
   "execution_count": 16,
   "id": "2a2116fe",
   "metadata": {},
   "outputs": [
    {
     "data": {
      "text/html": [
       "<div>\n",
       "<style scoped>\n",
       "    .dataframe tbody tr th:only-of-type {\n",
       "        vertical-align: middle;\n",
       "    }\n",
       "\n",
       "    .dataframe tbody tr th {\n",
       "        vertical-align: top;\n",
       "    }\n",
       "\n",
       "    .dataframe thead th {\n",
       "        text-align: right;\n",
       "    }\n",
       "</style>\n",
       "<table border=\"1\" class=\"dataframe\">\n",
       "  <thead>\n",
       "    <tr style=\"text-align: right;\">\n",
       "      <th></th>\n",
       "      <th>season</th>\n",
       "      <th>workingday</th>\n",
       "      <th>count</th>\n",
       "    </tr>\n",
       "  </thead>\n",
       "  <tbody>\n",
       "    <tr>\n",
       "      <th>count</th>\n",
       "      <td>456.000000</td>\n",
       "      <td>456.000000</td>\n",
       "      <td>456.000000</td>\n",
       "    </tr>\n",
       "    <tr>\n",
       "      <th>mean</th>\n",
       "      <td>2.500000</td>\n",
       "      <td>0.682018</td>\n",
       "      <td>4573.412281</td>\n",
       "    </tr>\n",
       "    <tr>\n",
       "      <th>std</th>\n",
       "      <td>1.119262</td>\n",
       "      <td>0.466204</td>\n",
       "      <td>1868.740135</td>\n",
       "    </tr>\n",
       "    <tr>\n",
       "      <th>min</th>\n",
       "      <td>1.000000</td>\n",
       "      <td>0.000000</td>\n",
       "      <td>605.000000</td>\n",
       "    </tr>\n",
       "    <tr>\n",
       "      <th>25%</th>\n",
       "      <td>1.750000</td>\n",
       "      <td>0.000000</td>\n",
       "      <td>3305.500000</td>\n",
       "    </tr>\n",
       "    <tr>\n",
       "      <th>50%</th>\n",
       "      <td>2.500000</td>\n",
       "      <td>1.000000</td>\n",
       "      <td>4585.500000</td>\n",
       "    </tr>\n",
       "    <tr>\n",
       "      <th>75%</th>\n",
       "      <td>3.250000</td>\n",
       "      <td>1.000000</td>\n",
       "      <td>5987.500000</td>\n",
       "    </tr>\n",
       "    <tr>\n",
       "      <th>max</th>\n",
       "      <td>4.000000</td>\n",
       "      <td>1.000000</td>\n",
       "      <td>8714.000000</td>\n",
       "    </tr>\n",
       "  </tbody>\n",
       "</table>\n",
       "</div>"
      ],
      "text/plain": [
       "           season  workingday        count\n",
       "count  456.000000  456.000000   456.000000\n",
       "mean     2.500000    0.682018  4573.412281\n",
       "std      1.119262    0.466204  1868.740135\n",
       "min      1.000000    0.000000   605.000000\n",
       "25%      1.750000    0.000000  3305.500000\n",
       "50%      2.500000    1.000000  4585.500000\n",
       "75%      3.250000    1.000000  5987.500000\n",
       "max      4.000000    1.000000  8714.000000"
      ]
     },
     "execution_count": 16,
     "metadata": {},
     "output_type": "execute_result"
    }
   ],
   "source": [
    "#Stastistical overview for new data\n",
    "df_new.describe()\n",
    "\n",
    "#Insights\n",
    "#Count of total rental bikes per day. Mean and median dont have much difference (4573 and 4585 respectively)"
   ]
  },
  {
   "cell_type": "code",
   "execution_count": 17,
   "id": "6db76a9a",
   "metadata": {},
   "outputs": [
    {
     "data": {
      "text/plain": [
       "Text(0.5, 1.0, 'Hour wise Data')"
      ]
     },
     "execution_count": 17,
     "metadata": {},
     "output_type": "execute_result"
    },
    {
     "data": {
      "image/png": "[encoded data removed]",
      "text/plain": [
       "<Figure size 2000x1000 with 3 Axes>"
      ]
     },
     "metadata": {},
     "output_type": "display_data"
    }
   ],
   "source": [
    "#Graphocal Analysis\n",
    "plt.figure(figsize=(20,10))\n",
    "plt.subplot(2,3,1)\n",
    "sns.countplot(data=df_new, x=\"season\")\n",
    "plt.title(\"Day wise Data\")\n",
    "plt.subplot(2,3,2)\n",
    "sns.countplot(data=df_new, x=\"workingday\")\n",
    "plt.title(\"Day wise Data\")\n",
    "plt.subplot(2,3,3)\n",
    "sns.countplot(data=df, x=\"weather\")\n",
    "plt.title(\"Hour wise Data\")"
   ]
  },
  {
   "cell_type": "code",
   "execution_count": 18,
   "id": "e8c6b1a6",
   "metadata": {},
   "outputs": [
    {
     "data": {
      "text/html": [
       "<div>\n",
       "<style scoped>\n",
       "    .dataframe tbody tr th:only-of-type {\n",
       "        vertical-align: middle;\n",
       "    }\n",
       "\n",
       "    .dataframe tbody tr th {\n",
       "        vertical-align: top;\n",
       "    }\n",
       "\n",
       "    .dataframe thead th {\n",
       "        text-align: right;\n",
       "    }\n",
       "</style>\n",
       "<table border=\"1\" class=\"dataframe\">\n",
       "  <thead>\n",
       "    <tr style=\"text-align: right;\">\n",
       "      <th>humidity_bins</th>\n",
       "      <th>(-0.1, 20.0]</th>\n",
       "      <th>(20.0, 40.0]</th>\n",
       "      <th>(40.0, 60.0]</th>\n",
       "      <th>(60.0, 80.0]</th>\n",
       "      <th>(80.0, 100.0]</th>\n",
       "    </tr>\n",
       "  </thead>\n",
       "  <tbody>\n",
       "    <tr>\n",
       "      <th>count</th>\n",
       "      <td>14070</td>\n",
       "      <td>453412</td>\n",
       "      <td>786017</td>\n",
       "      <td>579255</td>\n",
       "      <td>252722</td>\n",
       "    </tr>\n",
       "  </tbody>\n",
       "</table>\n",
       "</div>"
      ],
      "text/plain": [
       "humidity_bins  (-0.1, 20.0]  (20.0, 40.0]  (40.0, 60.0]  (60.0, 80.0]  \\\n",
       "count                 14070        453412        786017        579255   \n",
       "\n",
       "humidity_bins  (80.0, 100.0]  \n",
       "count                 252722  "
      ]
     },
     "execution_count": 18,
     "metadata": {},
     "output_type": "execute_result"
    },
    {
     "data": {
      "image/png": "[encoded data removed]",
      "text/plain": [
       "<Figure size 600x300 with 1 Axes>"
      ]
     },
     "metadata": {},
     "output_type": "display_data"
    }
   ],
   "source": [
    "#humidity in city-hourly count and how much bikes rented     \n",
    "plt.figure(figsize=(6,3))\n",
    "sns.countplot(data=df,x=\"humidity_bins\")\n",
    "plt.title(\"Hour wise Data\")\n",
    "humidity_wise_count=pd.DataFrame(df.groupby(\"humidity_bins\")[\"count\"].sum()).T\n",
    "humidity_wise_count\n",
    "\n",
    "#Figure show humidity distribution \n",
    "#chart shows usage of bikes"
   ]
  },
  {
   "cell_type": "code",
   "execution_count": 19,
   "id": "6b162185",
   "metadata": {},
   "outputs": [
    {
     "data": {
      "text/plain": [
       "(40.0, 60.0]     3564\n",
       "(60.0, 80.0]     3382\n",
       "(80.0, 100.0]    2302\n",
       "(20.0, 40.0]     1560\n",
       "(-0.1, 20.0]       78\n",
       "Name: humidity_bins, dtype: int64"
      ]
     },
     "execution_count": 19,
     "metadata": {},
     "output_type": "execute_result"
    }
   ],
   "source": [
    "df[\"humidity_bins\"].value_counts()"
   ]
  },
  {
   "cell_type": "code",
   "execution_count": 20,
   "id": "11e840f6",
   "metadata": {},
   "outputs": [
    {
     "name": "stdout",
     "output_type": "stream",
     "text": [
      "Rented Bikes/hour for humidity between 40 and 60 = 220\n",
      "Rented Bikes/hour for humidity between 60 and 80 = 171\n",
      "Rented Bikes/hour for humidity between 80 and 100 = 109\n"
     ]
    }
   ],
   "source": [
    "#insights\n",
    "#Mostly humidity in city stays more than 40\n",
    "#lets compare bikes rented per hours for humidity bins of 40-60, 60-80 and 80-100\n",
    "#No of bikes/no of hours\n",
    "print(\"Rented Bikes/hour for humidity between 40 and 60 =\",786017//3564)\n",
    "print(\"Rented Bikes/hour for humidity between 60 and 80 =\",579255//3382)\n",
    "print(\"Rented Bikes/hour for humidity between 80 and 100 =\",252722//2302)\n",
    "\n",
    "#insights: 40-60 hymidity is perfect weather for bike rental. as humidity increases less people prefer bikes"
   ]
  },
  {
   "cell_type": "code",
   "execution_count": 21,
   "id": "c4951cc4",
   "metadata": {},
   "outputs": [
    {
     "data": {
      "image/png": "[encoded data removed]",
      "text/plain": [
       "<Figure size 600x300 with 1 Axes>"
      ]
     },
     "metadata": {},
     "output_type": "display_data"
    },
    {
     "data": {
      "text/html": [
       "<div>\n",
       "<style scoped>\n",
       "    .dataframe tbody tr th:only-of-type {\n",
       "        vertical-align: middle;\n",
       "    }\n",
       "\n",
       "    .dataframe tbody tr th {\n",
       "        vertical-align: top;\n",
       "    }\n",
       "\n",
       "    .dataframe thead th {\n",
       "        text-align: right;\n",
       "    }\n",
       "</style>\n",
       "<table border=\"1\" class=\"dataframe\">\n",
       "  <thead>\n",
       "    <tr style=\"text-align: right;\">\n",
       "      <th>temp_bins</th>\n",
       "      <th>(0.78, 14.213]</th>\n",
       "      <th>(14.213, 27.607]</th>\n",
       "      <th>(27.607, 41.0]</th>\n",
       "    </tr>\n",
       "  </thead>\n",
       "  <tbody>\n",
       "    <tr>\n",
       "      <th>count</th>\n",
       "      <td>301965</td>\n",
       "      <td>1114051</td>\n",
       "      <td>669460</td>\n",
       "    </tr>\n",
       "  </tbody>\n",
       "</table>\n",
       "</div>"
      ],
      "text/plain": [
       "temp_bins  (0.78, 14.213]  (14.213, 27.607]  (27.607, 41.0]\n",
       "count              301965           1114051          669460"
      ]
     },
     "execution_count": 21,
     "metadata": {},
     "output_type": "execute_result"
    }
   ],
   "source": [
    "plt.figure(figsize=(6,3))\n",
    "sns.countplot(data=df,x=\"temp_bins\")\n",
    "plt.title(\"Hour wise Data\")\n",
    "plt.show()\n",
    "temp_wise_count=pd.DataFrame(df.groupby(\"temp_bins\")[\"count\"].sum()).T\n",
    "temp_wise_count\n",
    "\n",
    "#Figure show temperature distribution \n",
    "#chart shows usage of bikes"
   ]
  },
  {
   "cell_type": "code",
   "execution_count": 22,
   "id": "050e1ecc",
   "metadata": {},
   "outputs": [
    {
     "data": {
      "text/plain": [
       "(14.213, 27.607]    5712\n",
       "(0.78, 14.213]      2926\n",
       "(27.607, 41.0]      2248\n",
       "Name: temp_bins, dtype: int64"
      ]
     },
     "execution_count": 22,
     "metadata": {},
     "output_type": "execute_result"
    }
   ],
   "source": [
    "df[\"temp_bins\"].value_counts()"
   ]
  },
  {
   "cell_type": "code",
   "execution_count": 23,
   "id": "8918966b",
   "metadata": {},
   "outputs": [
    {
     "name": "stdout",
     "output_type": "stream",
     "text": [
      "Rented Bikes/hour for temperature upto 14 = 103\n",
      "Rented Bikes/hour for temperature between 14 and 27 = 380\n",
      "Rented Bikes/hour for temperature above 27= 297\n"
     ]
    }
   ],
   "source": [
    "#insights\n",
    "#Mostly temperature in city stays between 14 and 27\n",
    "#lets compare bikes rented per hours for temperature bins \n",
    "#No of bikes/no of hours\n",
    "print(\"Rented Bikes/hour for temperature upto 14 =\",301965//2926)\n",
    "print(\"Rented Bikes/hour for temperature between 14 and 27 =\",1114051//2926)\n",
    "print(\"Rented Bikes/hour for temperature above 27=\",669460//2248)\n",
    "\n",
    "#insights: Ideal temp when people prefer bike is betwenn 14 and 27\n",
    "#less people prefer bikes when its cold outside"
   ]
  },
  {
   "cell_type": "code",
   "execution_count": 24,
   "id": "435ad202",
   "metadata": {},
   "outputs": [
    {
     "data": {
      "image/png": "[encoded data removed]",
      "text/plain": [
       "<Figure size 600x300 with 1 Axes>"
      ]
     },
     "metadata": {},
     "output_type": "display_data"
    },
    {
     "data": {
      "text/html": [
       "<div>\n",
       "<style scoped>\n",
       "    .dataframe tbody tr th:only-of-type {\n",
       "        vertical-align: middle;\n",
       "    }\n",
       "\n",
       "    .dataframe tbody tr th {\n",
       "        vertical-align: top;\n",
       "    }\n",
       "\n",
       "    .dataframe thead th {\n",
       "        text-align: right;\n",
       "    }\n",
       "</style>\n",
       "<table border=\"1\" class=\"dataframe\">\n",
       "  <thead>\n",
       "    <tr style=\"text-align: right;\">\n",
       "      <th>windspeed_bins</th>\n",
       "      <th>(-0.057, 9.499]</th>\n",
       "      <th>(9.499, 18.999]</th>\n",
       "      <th>(18.999, 28.498]</th>\n",
       "      <th>(28.498, 37.998]</th>\n",
       "      <th>(37.998, 47.497]</th>\n",
       "      <th>(47.497, 56.997]</th>\n",
       "    </tr>\n",
       "  </thead>\n",
       "  <tbody>\n",
       "    <tr>\n",
       "      <th>count</th>\n",
       "      <td>712814</td>\n",
       "      <td>804180</td>\n",
       "      <td>482118</td>\n",
       "      <td>75113</td>\n",
       "      <td>10255</td>\n",
       "      <td>996</td>\n",
       "    </tr>\n",
       "  </tbody>\n",
       "</table>\n",
       "</div>"
      ],
      "text/plain": [
       "windspeed_bins  (-0.057, 9.499]  (9.499, 18.999]  (18.999, 28.498]  \\\n",
       "count                    712814           804180            482118   \n",
       "\n",
       "windspeed_bins  (28.498, 37.998]  (37.998, 47.497]  (47.497, 56.997]  \n",
       "count                      75113             10255               996  "
      ]
     },
     "execution_count": 24,
     "metadata": {},
     "output_type": "execute_result"
    }
   ],
   "source": [
    "plt.figure(figsize=(6,3))\n",
    "sns.countplot(data=df,x=\"windspeed_bins\")\n",
    "plt.title(\"Hour wise Data\")\n",
    "plt.xticks(rotation=90)\n",
    "plt.show()\n",
    "windspeed_wise_count=pd.DataFrame(df.groupby(\"windspeed_bins\")[\"count\"].sum()).T\n",
    "windspeed_wise_count\n",
    "\n",
    "\n",
    "#Figure show windspeed distribution \n",
    "#chart shows usage of bikes"
   ]
  },
  {
   "cell_type": "code",
   "execution_count": 25,
   "id": "5f898631",
   "metadata": {},
   "outputs": [
    {
     "data": {
      "text/plain": [
       "(-0.057, 9.499]     4339\n",
       "(9.499, 18.999]     3884\n",
       "(18.999, 28.498]    2236\n",
       "(28.498, 37.998]     360\n",
       "(37.998, 47.497]      61\n",
       "(47.497, 56.997]       6\n",
       "Name: windspeed_bins, dtype: int64"
      ]
     },
     "execution_count": 25,
     "metadata": {},
     "output_type": "execute_result"
    }
   ],
   "source": [
    "df[\"windspeed_bins\"].value_counts()"
   ]
  },
  {
   "cell_type": "code",
   "execution_count": 26,
   "id": "9dd6128c",
   "metadata": {},
   "outputs": [
    {
     "name": "stdout",
     "output_type": "stream",
     "text": [
      "Rented Bikes/hour for Windspeed upto 9.5 = 164\n",
      "Rented Bikes/hour for Windspeed between 9.5 and 19 = 207\n",
      "Rented Bikes/hour for Windspeed between 19 and 28.5= 215\n"
     ]
    }
   ],
   "source": [
    "#insights\n",
    "#Mostly Windspeed in city stays from 0-28.5\n",
    "#lets compare bikes rented per hours for Windspeed bins 0-9.5, 9.5-19 and 19-28.5\n",
    "#No of bikes/no of hours\n",
    "print(\"Rented Bikes/hour for Windspeed upto 9.5 =\",712814//4339)\n",
    "print(\"Rented Bikes/hour for Windspeed between 9.5 and 19 =\",804180//3884)\n",
    "print(\"Rented Bikes/hour for Windspeed between 19 and 28.5=\",482118//2236)\n",
    "\n",
    "#insights: when windpeed is less than 9.5, comparitively less people rent bike"
   ]
  },
  {
   "cell_type": "code",
   "execution_count": 27,
   "id": "9ca57015",
   "metadata": {},
   "outputs": [
    {
     "name": "stdout",
     "output_type": "stream",
     "text": [
      "casual users demand/hour= 36\n",
      "registered users demand/hour= 155\n"
     ]
    }
   ],
   "source": [
    "print(\"casual users demand/hour=\",df[\"casual\"].sum()//len(df[\"casual\"]))\n",
    "print(\"registered users demand/hour=\",df[\"registered\"].sum()//len(df[\"registered\"]))\n",
    "\n",
    "#insights\n",
    "#registred user demand is more than casual"
   ]
  },
  {
   "cell_type": "code",
   "execution_count": 28,
   "id": "61503407",
   "metadata": {},
   "outputs": [
    {
     "data": {
      "text/plain": [
       "<AxesSubplot:xlabel='workingday', ylabel='count'>"
      ]
     },
     "execution_count": 28,
     "metadata": {},
     "output_type": "execute_result"
    },
    {
     "data": {
      "image/png": "[encoded data removed]",
      "text/plain": [
       "<Figure size 640x480 with 1 Axes>"
      ]
     },
     "metadata": {},
     "output_type": "display_data"
    }
   ],
   "source": [
    "#Bivariate Analysis between No of vehicles and working day/non working day\n",
    "sns.boxplot(data=df_new,x=\"workingday\",y=\"count\")\n",
    "\n",
    "#Insights\n",
    "#We can see there is not much difference in medians of both groups\n",
    "#but based on above information we cant conclude no effect on No of vehicles rented if working or non working day\n",
    "#we need to do 2t t test to check stastistically"
   ]
  },
  {
   "cell_type": "code",
   "execution_count": 29,
   "id": "f5eabfb7",
   "metadata": {},
   "outputs": [],
   "source": [
    "#segregating samples for working day and non working day\n",
    "df_workingday=df_new[df_new[\"workingday\"]==1]\n",
    "df_non_workingday=df_new[df_new[\"workingday\"]==0]"
   ]
  },
  {
   "cell_type": "code",
   "execution_count": 30,
   "id": "8e77d06e",
   "metadata": {},
   "outputs": [
    {
     "name": "stdout",
     "output_type": "stream",
     "text": [
      "Basic Stats about working Days data\n",
      "Mean for no of bikes rented on working days = 4600\n",
      "Std Deviation for no of bikes rented on working days = 1829\n",
      "Total no of working days = 311\n",
      "\n",
      "Basic Stats about non working Days data\n",
      "Mean for no of bikes rented on non working days = 4516\n",
      "Std Deviation for no of bikes rented on non working days = 1956\n",
      "Total no of non working days = 145\n"
     ]
    }
   ],
   "source": [
    "#basic info about samples\n",
    "print(\"Basic Stats about working Days data\")\n",
    "print(\"Mean for no of bikes rented on working days =\",round(df_workingday[\"count\"].mean()))\n",
    "print(\"Std Deviation for no of bikes rented on working days =\",round(df_workingday[\"count\"].std()))\n",
    "print(\"Total no of working days =\",len(df_workingday))\n",
    "print(\"\")\n",
    "print(\"Basic Stats about non working Days data\")\n",
    "print(\"Mean for no of bikes rented on non working days =\",round(df_non_workingday[\"count\"].mean()))\n",
    "print(\"Std Deviation for no of bikes rented on non working days =\",round(df_non_workingday[\"count\"].std()))\n",
    "print(\"Total no of non working days =\",len(df_non_workingday))"
   ]
  },
  {
   "cell_type": "code",
   "execution_count": 31,
   "id": "2207f29f",
   "metadata": {},
   "outputs": [],
   "source": [
    "#Checking if there is any effect on number of bikes rented based on if its working day or non working day\n",
    "\n",
    "#Data we have: sample data\n",
    "#Data we dont have: Population data\n",
    "#As we dont have Population std deviation, we cant use Z test. 2 sample t test can be used in this case\n",
    "#Sample size is more than 30 so t test will give similar results like z test\n",
    "\n",
    "#Null Hypothesis: There is no effect of working days on No of bikes rented\n",
    "#Alternate Hypothesis: No of bikes rented depends on if its a working day or not\n",
    "\n",
    "#Test statistics: No of bikes rented per day\n",
    "#Samples whoich we gonna use: df_workingday[\"counts\"] and df_non_workingday[\"count\"]\n",
    "#significance level: 0.05"
   ]
  },
  {
   "cell_type": "code",
   "execution_count": 32,
   "id": "57c428b7",
   "metadata": {},
   "outputs": [
    {
     "name": "stdout",
     "output_type": "stream",
     "text": [
      "tstat= -0.44477221614881995\n",
      "p= 0.656696335987859\n"
     ]
    }
   ],
   "source": [
    "#performing T test and getting t stat and p value\n",
    "t_stat_workingday,p_workingday=ttest_ind(df_non_workingday[\"count\"],df_workingday[\"count\"])\n",
    "print(\"tstat=\",t_stat_workingday)\n",
    "print(\"p=\",p_workingday)"
   ]
  },
  {
   "cell_type": "code",
   "execution_count": 33,
   "id": "52a3d040",
   "metadata": {},
   "outputs": [
    {
     "name": "stdout",
     "output_type": "stream",
     "text": [
      "fail to reject null hypothesis\n"
     ]
    }
   ],
   "source": [
    "#Concluding 2 sample T test\n",
    "if p_workingday<0.05:\n",
    "    print(\"reject null hypothesis\")\n",
    "else:\n",
    "    print(\"fail to reject null hypothesis\")"
   ]
  },
  {
   "cell_type": "code",
   "execution_count": 34,
   "id": "7da4040c",
   "metadata": {},
   "outputs": [],
   "source": [
    "#insights\n",
    "#There is No EFFECT if day is working or not on no of bikes rented"
   ]
  },
  {
   "cell_type": "code",
   "execution_count": 35,
   "id": "8fb3f6ef",
   "metadata": {},
   "outputs": [
    {
     "data": {
      "text/plain": [
       "<AxesSubplot:xlabel='season', ylabel='count'>"
      ]
     },
     "execution_count": 35,
     "metadata": {},
     "output_type": "execute_result"
    },
    {
     "data": {
      "image/png": "[encoded data removed]",
      "text/plain": [
       "<Figure size 640x480 with 1 Axes>"
      ]
     },
     "metadata": {},
     "output_type": "display_data"
    }
   ],
   "source": [
    "#Bivariate Analysis between No of vehicles and working day/non working day\n",
    "sns.boxplot(data=df_new,x=\"season\",y=\"count\")\n"
   ]
  },
  {
   "cell_type": "code",
   "execution_count": 36,
   "id": "f37467bd",
   "metadata": {},
   "outputs": [],
   "source": [
    "#segregating samples of different seasons\n",
    "df_season1=df_new[df_new[\"season\"]==1]\n",
    "df_season2=df_new[df_new[\"season\"]==2]\n",
    "df_season3=df_new[df_new[\"season\"]==3]\n",
    "df_season4=df_new[df_new[\"season\"]==4]"
   ]
  },
  {
   "cell_type": "code",
   "execution_count": 37,
   "id": "c34a7fc3",
   "metadata": {},
   "outputs": [
    {
     "name": "stdout",
     "output_type": "stream",
     "text": [
      "Basic Stats about season1 data\n",
      "Mean for no of bikes rented on season1 = 2741\n",
      "Std Deviation for no of bikes rented on season1 days = 1458\n",
      "Total no of season1 days = 114\n",
      "\n",
      "Basic Stats about season2 data\n",
      "Mean for no of bikes rented on season2 = 5160\n",
      "Std Deviation for no of bikes rented on season2 days = 1684\n",
      "Total no of season2 days = 114\n",
      "\n",
      "Basic Stats about season3 data\n",
      "Mean for no of bikes rented on season3 = 5620\n",
      "Std Deviation for no of bikes rented on season3 days = 1433\n",
      "Total no of season3 days = 114\n",
      "\n",
      "Basic Stats about season4 data\n",
      "Mean for no of bikes rented on season4 = 4772\n",
      "Std Deviation for no of bikes rented on season4 days = 1472\n",
      "Total no of season4 days = 114\n",
      "\n"
     ]
    }
   ],
   "source": [
    "#basic info about samples\n",
    "print(\"Basic Stats about season1 data\")\n",
    "print(\"Mean for no of bikes rented on season1 =\",round(df_season1[\"count\"].mean()))\n",
    "print(\"Std Deviation for no of bikes rented on season1 days =\",round(df_season1[\"count\"].std()))\n",
    "print(\"Total no of season1 days =\",len(df_season1))\n",
    "print(\"\")\n",
    "print(\"Basic Stats about season2 data\")\n",
    "print(\"Mean for no of bikes rented on season2 =\",round(df_season2[\"count\"].mean()))\n",
    "print(\"Std Deviation for no of bikes rented on season2 days =\",round(df_season2[\"count\"].std()))\n",
    "print(\"Total no of season2 days =\",len(df_season2))\n",
    "print(\"\")\n",
    "print(\"Basic Stats about season3 data\")\n",
    "print(\"Mean for no of bikes rented on season3 =\",round(df_season3[\"count\"].mean()))\n",
    "print(\"Std Deviation for no of bikes rented on season3 days =\",round(df_season3[\"count\"].std()))\n",
    "print(\"Total no of season3 days =\",len(df_season3))\n",
    "print(\"\")\n",
    "print(\"Basic Stats about season4 data\")\n",
    "print(\"Mean for no of bikes rented on season4 =\",round(df_season4[\"count\"].mean()))\n",
    "print(\"Std Deviation for no of bikes rented on season4 days =\",round(df_season4[\"count\"].std()))\n",
    "print(\"Total no of season4 days =\",len(df_season4))\n",
    "print(\"\")"
   ]
  },
  {
   "cell_type": "code",
   "execution_count": 38,
   "id": "9ef95ff5",
   "metadata": {},
   "outputs": [],
   "source": [
    "#Checking if there is any effect on number of bikes rented based on season\n",
    "#Here we have 4 seasons. we need to check if no of bikes rented samples are statistically different for all 4 seasons\n",
    "#here we are gonna compare more than 2 samples so Anova can be used\n",
    "\n",
    "#Null Hypothesis: No of vehicles rented in all 4 seasons are same\n",
    "#Alternate Hypothesis: No of vehicles rented in atleast 1 season is different than others\n",
    "\n",
    "#Ftest is right tailed distribution which will tell us if samples are statistically significant or not by comparing p and alpha\n",
    "#significance level: 0.05\n"
   ]
  },
  {
   "cell_type": "code",
   "execution_count": 39,
   "id": "fb5a6d09",
   "metadata": {},
   "outputs": [
    {
     "name": "stdout",
     "output_type": "stream",
     "text": [
      "F-Ratio= 80.0504789788067\n",
      "P= 1.506580502991204e-41\n"
     ]
    }
   ],
   "source": [
    "#performing Anova and getting f ratio and p values\n",
    "f_ratio_season,p_season=f_oneway(df_season1[\"count\"],df_season2[\"count\"],df_season3[\"count\"],df_season4[\"count\"])\n",
    "\n",
    "print(\"F-Ratio=\",f_ratio_season)\n",
    "print(\"P=\",p_season)"
   ]
  },
  {
   "cell_type": "code",
   "execution_count": 40,
   "id": "20915954",
   "metadata": {},
   "outputs": [
    {
     "name": "stdout",
     "output_type": "stream",
     "text": [
      "reject null hypothesis\n"
     ]
    }
   ],
   "source": [
    "#Concluding Anova\n",
    "if p_season<0.05:\n",
    "    print(\"reject null hypothesis\")\n",
    "else:\n",
    "    print(\"fail to reject null hypothesis\")"
   ]
  },
  {
   "cell_type": "code",
   "execution_count": 41,
   "id": "7e9a80ae",
   "metadata": {},
   "outputs": [],
   "source": [
    "#Insights\n",
    "#we are rejecting null hypothesis that all samples are same\n",
    "#Number of bikes rented depends on season"
   ]
  },
  {
   "cell_type": "code",
   "execution_count": 42,
   "id": "0517ca50",
   "metadata": {},
   "outputs": [],
   "source": [
    "#for working days and season, data we used was per day\n",
    "#weather may change during day,so will be using hour data to do statistical analysis of how weather influence No of bikes rented"
   ]
  },
  {
   "cell_type": "code",
   "execution_count": 43,
   "id": "d7110062",
   "metadata": {},
   "outputs": [
    {
     "data": {
      "text/plain": [
       "<AxesSubplot:xlabel='weather', ylabel='count'>"
      ]
     },
     "execution_count": 43,
     "metadata": {},
     "output_type": "execute_result"
    },
    {
     "data": {
      "image/png": "[encoded data removed]",
      "text/plain": [
       "<Figure size 640x480 with 1 Axes>"
      ]
     },
     "metadata": {},
     "output_type": "display_data"
    }
   ],
   "source": [
    "#Bivariate Analysis between No of vehicles and weather\n",
    "sns.boxplot(data=df,x=\"weather\",y=\"count\")\n",
    "\n",
    "#insights\n",
    "#from graphs we can see there is difference in medians for no of bikes rented for all weathers\n",
    "#we can also see outliers which are on higher side, will be ignoring for this analysis\n",
    "#sample 4 data looks abnormal, will be investigating it"
   ]
  },
  {
   "cell_type": "code",
   "execution_count": 44,
   "id": "38704846",
   "metadata": {},
   "outputs": [],
   "source": [
    "#segregating samples of different weathers\n",
    "df_weather1=df[df[\"weather\"]==1]\n",
    "df_weather2=df[df[\"weather\"]==2]\n",
    "df_weather3=df[df[\"weather\"]==3]\n",
    "df_weather4=df[df[\"weather\"]==4]"
   ]
  },
  {
   "cell_type": "code",
   "execution_count": 45,
   "id": "510c614d",
   "metadata": {},
   "outputs": [
    {
     "name": "stdout",
     "output_type": "stream",
     "text": [
      "Basic Stats about weather1 data\n",
      "Mean for no of bikes rented on weather1 = 205\n",
      "Std Deviation for no of bikes rented on weather1= 188\n",
      "Total no of weather1 hours = 7192\n",
      "\n",
      "Basic Stats about weather2 data\n",
      "Mean for no of bikes rented on weather2 = 179\n",
      "Std Deviation for no of bikes rented on weather2= 168\n",
      "Total no of weather2 hours = 2834\n",
      "\n",
      "Basic Stats about weather3 data\n",
      "Mean for no of bikes rented on weather3 = 119\n",
      "Std Deviation for no of bikes rented on weather3= 139\n",
      "Total no of weather3 hours = 859\n",
      "\n",
      "Basic Stats about weather4 data\n",
      "Mean for no of bikes rented on weather4 = 164\n",
      "Total no of weather4 hours = 1\n"
     ]
    }
   ],
   "source": [
    "#basic info about samples\n",
    "print(\"Basic Stats about weather1 data\")\n",
    "print(\"Mean for no of bikes rented on weather1 =\",round(df_weather1[\"count\"].mean()))\n",
    "print(\"Std Deviation for no of bikes rented on weather1=\",round(df_weather1[\"count\"].std()))\n",
    "print(\"Total no of weather1 hours =\",len(df_weather1))\n",
    "print(\"\")\n",
    "print(\"Basic Stats about weather2 data\")\n",
    "print(\"Mean for no of bikes rented on weather2 =\",round(df_weather2[\"count\"].mean()))\n",
    "print(\"Std Deviation for no of bikes rented on weather2=\",round(df_weather2[\"count\"].std()))\n",
    "print(\"Total no of weather2 hours =\",len(df_weather2))\n",
    "print(\"\")\n",
    "print(\"Basic Stats about weather3 data\")\n",
    "print(\"Mean for no of bikes rented on weather3 =\",round(df_weather3[\"count\"].mean()))\n",
    "print(\"Std Deviation for no of bikes rented on weather3=\",round(df_weather3[\"count\"].std()))\n",
    "print(\"Total no of weather3 hours =\",len(df_weather3))\n",
    "print(\"\")\n",
    "print(\"Basic Stats about weather4 data\")\n",
    "print(\"Mean for no of bikes rented on weather4 =\",round(df_weather4[\"count\"].mean()))\n",
    "print(\"Total no of weather4 hours =\",len(df_weather4))"
   ]
  },
  {
   "cell_type": "code",
   "execution_count": 46,
   "id": "53b49d7c",
   "metadata": {},
   "outputs": [],
   "source": [
    "#Checking if there is any effect on number of bikes rented based on weather\n",
    "#Here we have 4 weather. we need to check if no of bikes rented samples are statistically different for all 4 weather\n",
    "#here we are gonna compare more than 2 samples so Anova can be used\n",
    "\n",
    "#Null Hypothesis: No of vehicles rented in all 4 weather are same\n",
    "#Alternate Hypothesis: No of vehicles rented in atleast 1 weather is different than others\n",
    "\n",
    "#Ftest is right tailed distribution which will tell us if samples are statistically significant or not by comparing p and alpha\n",
    "#significance level: 0.05\n"
   ]
  },
  {
   "cell_type": "code",
   "execution_count": 47,
   "id": "2fde40c6",
   "metadata": {},
   "outputs": [
    {
     "name": "stdout",
     "output_type": "stream",
     "text": [
      "F-Ratio= 65.53024112793271\n",
      "P= 5.482069475935669e-42\n"
     ]
    }
   ],
   "source": [
    "#performing Anova and getting f ratio and p values\n",
    "f_ratio_weather,p_weather=f_oneway(df_weather1[\"count\"],df_weather2[\"count\"],df_weather3[\"count\"],df_weather4[\"count\"])\n",
    "\n",
    "print(\"F-Ratio=\",f_ratio_weather)\n",
    "print(\"P=\",p_weather)"
   ]
  },
  {
   "cell_type": "code",
   "execution_count": 48,
   "id": "811fb6cc",
   "metadata": {},
   "outputs": [
    {
     "name": "stdout",
     "output_type": "stream",
     "text": [
      "reject null hypothesis\n"
     ]
    }
   ],
   "source": [
    "#Concluding Anova\n",
    "if p_weather<0.05:\n",
    "    print(\"reject null hypothesis\")\n",
    "else:\n",
    "    print(\"fail to reject null hypothesis\")"
   ]
  },
  {
   "cell_type": "code",
   "execution_count": 49,
   "id": "93f01148",
   "metadata": {},
   "outputs": [],
   "source": [
    "#Insights\n",
    "#we are rejecting null hypothesis that all samples are same\n",
    "#Number of bikes rented depends on weather"
   ]
  },
  {
   "cell_type": "code",
   "execution_count": 50,
   "id": "7d621720",
   "metadata": {},
   "outputs": [
    {
     "data": {
      "text/plain": [
       "<AxesSubplot:xlabel='season', ylabel='count'>"
      ]
     },
     "execution_count": 50,
     "metadata": {},
     "output_type": "execute_result"
    },
    {
     "data": {
      "image/png": "[encoded data removed]",
      "text/plain": [
       "<Figure size 640x480 with 1 Axes>"
      ]
     },
     "metadata": {},
     "output_type": "display_data"
    }
   ],
   "source": [
    "#Bivariate Analysis between No of vehicles with weather and season\n",
    "\n",
    "sns.boxplot(data=df, x=\"season\", y=\"count\", hue=\"weather\")"
   ]
  },
  {
   "cell_type": "code",
   "execution_count": 51,
   "id": "06ed8eee",
   "metadata": {},
   "outputs": [
    {
     "data": {
      "text/html": [
       "<div>\n",
       "<style scoped>\n",
       "    .dataframe tbody tr th:only-of-type {\n",
       "        vertical-align: middle;\n",
       "    }\n",
       "\n",
       "    .dataframe tbody tr th {\n",
       "        vertical-align: top;\n",
       "    }\n",
       "\n",
       "    .dataframe thead th {\n",
       "        text-align: right;\n",
       "    }\n",
       "</style>\n",
       "<table border=\"1\" class=\"dataframe\">\n",
       "  <thead>\n",
       "    <tr style=\"text-align: right;\">\n",
       "      <th>weather</th>\n",
       "      <th>1</th>\n",
       "      <th>2</th>\n",
       "      <th>3</th>\n",
       "      <th>4</th>\n",
       "    </tr>\n",
       "    <tr>\n",
       "      <th>season</th>\n",
       "      <th></th>\n",
       "      <th></th>\n",
       "      <th></th>\n",
       "      <th></th>\n",
       "    </tr>\n",
       "  </thead>\n",
       "  <tbody>\n",
       "    <tr>\n",
       "      <th>1</th>\n",
       "      <td>1759</td>\n",
       "      <td>715</td>\n",
       "      <td>211</td>\n",
       "      <td>1</td>\n",
       "    </tr>\n",
       "    <tr>\n",
       "      <th>2</th>\n",
       "      <td>1801</td>\n",
       "      <td>708</td>\n",
       "      <td>224</td>\n",
       "      <td>0</td>\n",
       "    </tr>\n",
       "    <tr>\n",
       "      <th>3</th>\n",
       "      <td>1930</td>\n",
       "      <td>604</td>\n",
       "      <td>199</td>\n",
       "      <td>0</td>\n",
       "    </tr>\n",
       "    <tr>\n",
       "      <th>4</th>\n",
       "      <td>1702</td>\n",
       "      <td>807</td>\n",
       "      <td>225</td>\n",
       "      <td>0</td>\n",
       "    </tr>\n",
       "  </tbody>\n",
       "</table>\n",
       "</div>"
      ],
      "text/plain": [
       "weather     1    2    3  4\n",
       "season                    \n",
       "1        1759  715  211  1\n",
       "2        1801  708  224  0\n",
       "3        1930  604  199  0\n",
       "4        1702  807  225  0"
      ]
     },
     "execution_count": 51,
     "metadata": {},
     "output_type": "execute_result"
    }
   ],
   "source": [
    "#season and weather both are categorical variables \n",
    "#from diagram we can see there is some relation between by comparing medians\n",
    "#to check stastistically we need to perfoem chi-square test\n",
    "chi2_data=pd.crosstab(index=df[\"season\"],columns=df[\"weather\"])\n",
    "chi2_data"
   ]
  },
  {
   "cell_type": "code",
   "execution_count": 52,
   "id": "260e23fc",
   "metadata": {},
   "outputs": [
    {
     "name": "stdout",
     "output_type": "stream",
     "text": [
      "tstat= 49.158655596893624\n",
      "P= 1.549925073686492e-07\n"
     ]
    }
   ],
   "source": [
    "#Chi-square test\n",
    "#Null Hypothesis: Season and weather does not depend on each other\n",
    "#Alternate Hypothesis: Season and weather depends on each other\n",
    "#significance level=0.05\n",
    "tstat_cat,P_cat,df_cat,exp=chi2_contingency(chi2_data)\n",
    "print(\"tstat=\",tstat_cat)\n",
    "print(\"P=\",P_cat)"
   ]
  },
  {
   "cell_type": "code",
   "execution_count": 53,
   "id": "d54ceb14",
   "metadata": {},
   "outputs": [
    {
     "name": "stdout",
     "output_type": "stream",
     "text": [
      "reject null hypothesis\n"
     ]
    }
   ],
   "source": [
    "#Concluding Anova\n",
    "if P_cat<0.05:\n",
    "    print(\"reject null hypothesis\")\n",
    "else:\n",
    "    print(\"fail to reject null hypothesis\")"
   ]
  },
  {
   "cell_type": "code",
   "execution_count": 54,
   "id": "7b7fb90c",
   "metadata": {},
   "outputs": [],
   "source": [
    "#insights\n",
    "#we fail to reject null hypothesis\n",
    "#weather and season are dependednt on each other"
   ]
  },
  {
   "cell_type": "code",
   "execution_count": 55,
   "id": "ff382a08",
   "metadata": {},
   "outputs": [],
   "source": [
    "#Collective insights\n",
    "\n",
    "#we have hourly data for 456 days\n",
    "#Overall count if we see then not much difference between mean and median of no of rental bikes.\n",
    "\n",
    "#40-60 humidity is perfect weather for bike rental. As humidity increases less people prefer bikes.\n",
    "#Ideal temp when people prefer bike is betwenn 14 and 27. less people prefer bikes when its cold outside\n",
    "#When windspeed is less than 9.5, comparitively less people rent bike\n",
    "\n",
    "#Registred user demand is more than casual\n",
    "#number of vehicles rented is not influenced by if its working day or not working day\n",
    "\n",
    "#number of vehicles rented is influenced by seasons\n",
    "#season3 (fall) has highest demand\n",
    "#season1 (spring) has lowest demand\n",
    "\n",
    "#number of vehicles rented is influenced by weather\n",
    "#weather1 (Clear, Few clouds, partly cloudy, partly cloudy) has highest demand\n",
    "#weather3 has lowest demand(Light Snow, Light Rain + Thunderstorm + Scattered clouds, Light Rain + Scattered clouds)\n",
    "\n",
    "#No of bikes rented depends on weather and season, also weather and season depends on each other"
   ]
  },
  {
   "cell_type": "code",
   "execution_count": 56,
   "id": "ac00bdcb",
   "metadata": {},
   "outputs": [],
   "source": [
    "#recommendations\n",
    "\n",
    "#Yulu should allocate some budget on weather forecasting as demand is highly dependent on such factors\n",
    "\n",
    "#before fall season starts Yulu should make sure thta maintenance of all bikes and bike stastion is done and\n",
    "#they are ready to tackle high demand during fall season\n",
    "#spring season when demand is less, Yulu can focus on maintenance\n",
    "\n",
    "#when windspeed is less, people dont prefer bikes. special discounts may increase the count\n",
    "\n",
    "#when its cold people dont prefer bikes. Yulu can join hands with another startups which rents EV cars and divert customers\n",
    "#who prefer cars rather than bike. in return they can get comission\n",
    "\n",
    "#during less humid environment people dont prefer bikes, reason may be dehydration.\n",
    "#yulu can provide drinks near bike stastions (collaboration with cold drink company sounds good for buissness)\n",
    "\n",
    "#when weather is clear, demand is high so extra bikes can be kept in stick for such weather forecasting \n",
    "\n",
    "#demand is more in registered customers, so focus should be convert casual user into registered by giving offers\n",
    "\n",
    "#awareness aboout environment and EV is must. EV bike rallies on environment day soinds good idea to reach more people\n"
   ]
  }
 ],
 "metadata": {
  "kernelspec": {
   "display_name": "Python 3 (ipykernel)",
   "language": "python",
   "name": "python3"
  },
  "language_info": {
   "codemirror_mode": {
    "name": "ipython",
    "version": 3
   },
   "file_extension": ".py",
   "mimetype": "text/x-python",
   "name": "python",
   "nbconvert_exporter": "python",
   "pygments_lexer": "ipython3",
   "version": "3.9.13"
  }
 },
 "nbformat": 4,
 "nbformat_minor": 5
}
